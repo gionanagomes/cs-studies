{
  "nbformat": 4,
  "nbformat_minor": 0,
  "metadata": {
    "colab": {
      "provenance": []
    },
    "kernelspec": {
      "name": "python3",
      "display_name": "Python 3"
    },
    "language_info": {
      "name": "python"
    }
  },
  "cells": [
    {
      "cell_type": "code",
      "execution_count": 2,
      "metadata": {
        "colab": {
          "base_uri": "https://localhost:8080/"
        },
        "id": "-4FIBydB0Ord",
        "outputId": "47993cec-a66d-4005-8f29-339f958b15f0"
      },
      "outputs": [
        {
          "output_type": "stream",
          "name": "stdout",
          "text": [
            "digite um numero: 4\n",
            "digite um numero: 5\n",
            "o maior número é: 5\n"
          ]
        }
      ],
      "source": [
        "a = int(input(\"digite um numero: \"))\n",
        "\n",
        "b = int(input(\"digite um numero: \"))\n",
        "\n",
        "maior = a\n",
        "\n",
        "if(b > maior):\n",
        "\n",
        "  maior = b\n",
        "\n",
        "print(f'o maior número é: {maior}')"
      ]
    },
    {
      "cell_type": "code",
      "source": [
        "import numpy as np\n",
        "from scipy import stats\n",
        "\n",
        "variacao = 100\n",
        "quantidade = 5\n",
        "dados = np.random.randint(variacao, size = quantidade)\n",
        "\n",
        "print(\"dados:{}\".format(dados))"
      ],
      "metadata": {
        "colab": {
          "base_uri": "https://localhost:8080/"
        },
        "id": "GMAjiHT7GKsV",
        "outputId": "ac4ba9b8-3a5d-4dfd-b59b-9fddb4e05366"
      },
      "execution_count": 3,
      "outputs": [
        {
          "output_type": "stream",
          "name": "stdout",
          "text": [
            "dados:[21 32 23 60 64]\n"
          ]
        }
      ]
    },
    {
      "cell_type": "code",
      "source": [
        "media = dados.mean()\n",
        "desvio_padrao = dados.std()\n",
        "variancia = dados.var()\n",
        "minimo = dados.min()\n",
        "maximo = dados.max()\n",
        "moda = stats.mode(dados)\n",
        "\n",
        "print(\"média:{}\".format(media))\n",
        "print(\"desvio padrão:{}\".format(desvio_padrao))\n",
        "print(\"variância:{}\".format(variancia))\n",
        "print(\"mínimo:{}\".format(minimo))\n",
        "print(\"máximo:{}\".format(maximo))\n",
        "print(\"moda:{}; quantidade:{}\".format(moda.mode,moda.count))"
      ],
      "metadata": {
        "colab": {
          "base_uri": "https://localhost:8080/"
        },
        "id": "O1x73Ly6G2fr",
        "outputId": "c479ad75-e2b6-4fb2-ad4a-3eeeaca03d45"
      },
      "execution_count": 9,
      "outputs": [
        {
          "output_type": "stream",
          "name": "stdout",
          "text": [
            "média:40.0\n",
            "desvio padrão:18.384776310850235\n",
            "variância:338.0\n",
            "mínimo:21\n",
            "máximo:64\n",
            "moda:21; quantidade:1\n"
          ]
        }
      ]
    }
  ]
}