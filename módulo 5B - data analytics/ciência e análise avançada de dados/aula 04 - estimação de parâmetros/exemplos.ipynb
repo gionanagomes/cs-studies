{
  "nbformat": 4,
  "nbformat_minor": 0,
  "metadata": {
    "colab": {
      "provenance": []
    },
    "kernelspec": {
      "name": "python3",
      "display_name": "Python 3"
    },
    "language_info": {
      "name": "python"
    }
  },
  "cells": [
    {
      "cell_type": "markdown",
      "source": [
        "# estimação de parâmetros"
      ],
      "metadata": {
        "id": "a9qgYyW_RMn0"
      }
    },
    {
      "cell_type": "code",
      "execution_count": 1,
      "metadata": {
        "colab": {
          "base_uri": "https://localhost:8080/"
        },
        "id": "FC_fh_lRRKLH",
        "outputId": "cea4de64-595d-4284-8839-0e9f44e9f80c"
      },
      "outputs": [
        {
          "output_type": "stream",
          "name": "stdout",
          "text": [
            "Z=1.959963984540054\n"
          ]
        }
      ],
      "source": [
        "import scipy.stats as st\n",
        "\n",
        "nivel_de_confianca = 0.95\n",
        "nivel_de_significancia = 1 - nivel_de_confianca\n",
        "Z = abs(st.norm.ppf(nivel_de_significancia/2))\n",
        "\n",
        "print(f'Z={Z}')"
      ]
    },
    {
      "cell_type": "markdown",
      "source": [
        "# intervalo de confiança"
      ],
      "metadata": {
        "id": "o2C1I9WYS5ex"
      }
    },
    {
      "cell_type": "code",
      "source": [
        "import math\n",
        "\n",
        "tamanho_populacao = 60\n",
        "desvio_padrao = 0.020\n",
        "desvio_padrao_amostral = desvio_padrao/math.sqrt(tamanho_populacao)\n",
        "media_amostral = 0.01\n",
        "lim_sup = media_amostral + desvio_padrao_amostral\n",
        "lim_inf = media_amostral - desvio_padrao_amostral\n",
        "intervalo_de_confianca = (media_amostral - lim_inf, media_amostral + lim_sup)\n",
        "\n",
        "print(f'intervalo de confianca = {intervalo_de_confianca}')"
      ],
      "metadata": {
        "colab": {
          "base_uri": "https://localhost:8080/"
        },
        "id": "bLaCsThjS9zq",
        "outputId": "c66dc76a-b8d2-4702-924d-8d357214e849"
      },
      "execution_count": 6,
      "outputs": [
        {
          "output_type": "stream",
          "name": "stdout",
          "text": [
            "intervalo de confianca = (0.0025819888974716113, 0.02258198889747161)\n"
          ]
        }
      ]
    }
  ]
}